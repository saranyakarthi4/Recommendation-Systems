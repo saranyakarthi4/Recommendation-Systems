{
 "cells": [
  {
   "cell_type": "markdown",
   "metadata": {},
   "source": [
    "# Instacart Market Basket Analysis"
   ]
  },
  {
   "cell_type": "markdown",
   "metadata": {},
   "source": [
    "## Exploratory Data Analysis"
   ]
  },
  {
   "cell_type": "markdown",
   "metadata": {},
   "source": [
    "* Identify the total users, orders, most selling products\n",
    "* Identifying the products that are getting reordered\n",
    "* Identifying the day of the week where customers making more orders\n",
    "* Identifying hour of the day where customers making more orders"
   ]
  },
  {
   "cell_type": "code",
   "execution_count": 263,
   "metadata": {},
   "outputs": [],
   "source": [
    "# Importing Packages\n",
    "import pandas as pd\n",
    "import numpy as np\n",
    "import matplotlib.pyplot as plt\n",
    "import seaborn as sns\n",
    "\n",
    "from scipy import stats"
   ]
  },
  {
   "cell_type": "code",
   "execution_count": 265,
   "metadata": {},
   "outputs": [],
   "source": [
    "# Data Loading \n",
    "orders = pd.read_csv('orders_data.csv')\n",
    "orders = orders[orders['eval_set']=='train']"
   ]
  },
  {
   "cell_type": "code",
   "execution_count": 9,
   "metadata": {},
   "outputs": [
    {
     "data": {
      "text/html": [
       "<div>\n",
       "<style scoped>\n",
       "    .dataframe tbody tr th:only-of-type {\n",
       "        vertical-align: middle;\n",
       "    }\n",
       "\n",
       "    .dataframe tbody tr th {\n",
       "        vertical-align: top;\n",
       "    }\n",
       "\n",
       "    .dataframe thead th {\n",
       "        text-align: right;\n",
       "    }\n",
       "</style>\n",
       "<table border=\"1\" class=\"dataframe\">\n",
       "  <thead>\n",
       "    <tr style=\"text-align: right;\">\n",
       "      <th></th>\n",
       "      <th>order_id</th>\n",
       "      <th>user_id</th>\n",
       "      <th>eval_set</th>\n",
       "      <th>order_number</th>\n",
       "      <th>order_dow</th>\n",
       "      <th>order_hour_of_day</th>\n",
       "      <th>days_since_prior_order</th>\n",
       "      <th>product_id</th>\n",
       "      <th>add_to_cart_order</th>\n",
       "      <th>reordered</th>\n",
       "      <th>product_name</th>\n",
       "      <th>aisle_id</th>\n",
       "      <th>department_id</th>\n",
       "      <th>aisle</th>\n",
       "      <th>department</th>\n",
       "      <th>aisle-department</th>\n",
       "    </tr>\n",
       "  </thead>\n",
       "  <tbody>\n",
       "    <tr>\n",
       "      <th>2190260</th>\n",
       "      <td>2161340</td>\n",
       "      <td>96281</td>\n",
       "      <td>prior</td>\n",
       "      <td>3</td>\n",
       "      <td>0</td>\n",
       "      <td>9</td>\n",
       "      <td>18.0</td>\n",
       "      <td>NaN</td>\n",
       "      <td>NaN</td>\n",
       "      <td>NaN</td>\n",
       "      <td>NaN</td>\n",
       "      <td>NaN</td>\n",
       "      <td>NaN</td>\n",
       "      <td>NaN</td>\n",
       "      <td>NaN</td>\n",
       "      <td>NaN</td>\n",
       "    </tr>\n",
       "    <tr>\n",
       "      <th>3176049</th>\n",
       "      <td>989435</td>\n",
       "      <td>140031</td>\n",
       "      <td>prior</td>\n",
       "      <td>1</td>\n",
       "      <td>5</td>\n",
       "      <td>22</td>\n",
       "      <td>NaN</td>\n",
       "      <td>NaN</td>\n",
       "      <td>NaN</td>\n",
       "      <td>NaN</td>\n",
       "      <td>NaN</td>\n",
       "      <td>NaN</td>\n",
       "      <td>NaN</td>\n",
       "      <td>NaN</td>\n",
       "      <td>NaN</td>\n",
       "      <td>NaN</td>\n",
       "    </tr>\n",
       "    <tr>\n",
       "      <th>1151782</th>\n",
       "      <td>1368453</td>\n",
       "      <td>50743</td>\n",
       "      <td>train</td>\n",
       "      <td>60</td>\n",
       "      <td>2</td>\n",
       "      <td>17</td>\n",
       "      <td>1.0</td>\n",
       "      <td>29270.0</td>\n",
       "      <td>5.0</td>\n",
       "      <td>1.0</td>\n",
       "      <td>Beet Apple Carrot Lemon Ginger Organic Cold Pr...</td>\n",
       "      <td>31.0</td>\n",
       "      <td>7.0</td>\n",
       "      <td>refrigerated</td>\n",
       "      <td>beverages</td>\n",
       "      <td>refrigerated beverages</td>\n",
       "    </tr>\n",
       "    <tr>\n",
       "      <th>3444460</th>\n",
       "      <td>448584</td>\n",
       "      <td>151853</td>\n",
       "      <td>prior</td>\n",
       "      <td>10</td>\n",
       "      <td>6</td>\n",
       "      <td>12</td>\n",
       "      <td>7.0</td>\n",
       "      <td>NaN</td>\n",
       "      <td>NaN</td>\n",
       "      <td>NaN</td>\n",
       "      <td>NaN</td>\n",
       "      <td>NaN</td>\n",
       "      <td>NaN</td>\n",
       "      <td>NaN</td>\n",
       "      <td>NaN</td>\n",
       "      <td>NaN</td>\n",
       "    </tr>\n",
       "    <tr>\n",
       "      <th>143753</th>\n",
       "      <td>2704983</td>\n",
       "      <td>6383</td>\n",
       "      <td>prior</td>\n",
       "      <td>27</td>\n",
       "      <td>2</td>\n",
       "      <td>12</td>\n",
       "      <td>9.0</td>\n",
       "      <td>NaN</td>\n",
       "      <td>NaN</td>\n",
       "      <td>NaN</td>\n",
       "      <td>NaN</td>\n",
       "      <td>NaN</td>\n",
       "      <td>NaN</td>\n",
       "      <td>NaN</td>\n",
       "      <td>NaN</td>\n",
       "      <td>NaN</td>\n",
       "    </tr>\n",
       "  </tbody>\n",
       "</table>\n",
       "</div>"
      ],
      "text/plain": [
       "         order_id  user_id eval_set  order_number  order_dow  \\\n",
       "2190260   2161340    96281    prior             3          0   \n",
       "3176049    989435   140031    prior             1          5   \n",
       "1151782   1368453    50743    train            60          2   \n",
       "3444460    448584   151853    prior            10          6   \n",
       "143753    2704983     6383    prior            27          2   \n",
       "\n",
       "         order_hour_of_day  days_since_prior_order  product_id  \\\n",
       "2190260                  9                    18.0         NaN   \n",
       "3176049                 22                     NaN         NaN   \n",
       "1151782                 17                     1.0     29270.0   \n",
       "3444460                 12                     7.0         NaN   \n",
       "143753                  12                     9.0         NaN   \n",
       "\n",
       "         add_to_cart_order  reordered  \\\n",
       "2190260                NaN        NaN   \n",
       "3176049                NaN        NaN   \n",
       "1151782                5.0        1.0   \n",
       "3444460                NaN        NaN   \n",
       "143753                 NaN        NaN   \n",
       "\n",
       "                                              product_name  aisle_id  \\\n",
       "2190260                                                NaN       NaN   \n",
       "3176049                                                NaN       NaN   \n",
       "1151782  Beet Apple Carrot Lemon Ginger Organic Cold Pr...      31.0   \n",
       "3444460                                                NaN       NaN   \n",
       "143753                                                 NaN       NaN   \n",
       "\n",
       "         department_id         aisle department        aisle-department  \n",
       "2190260            NaN           NaN        NaN                     NaN  \n",
       "3176049            NaN           NaN        NaN                     NaN  \n",
       "1151782            7.0  refrigerated  beverages  refrigerated beverages  \n",
       "3444460            NaN           NaN        NaN                     NaN  \n",
       "143753             NaN           NaN        NaN                     NaN  "
      ]
     },
     "execution_count": 9,
     "metadata": {},
     "output_type": "execute_result"
    }
   ],
   "source": [
    "orders.sample(5)"
   ]
  },
  {
   "cell_type": "code",
   "execution_count": 10,
   "metadata": {},
   "outputs": [
    {
     "name": "stdout",
     "output_type": "stream",
     "text": [
      "Total Orders are 3421083, Total users are 206209\n"
     ]
    }
   ],
   "source": [
    "print ('Total Orders are {}, Total users are {}'.format(orders['order_id'].nunique(),orders['user_id'].nunique()))"
   ]
  },
  {
   "cell_type": "markdown",
   "metadata": {},
   "source": [
    "### Finding Top products based on orders "
   ]
  },
  {
   "cell_type": "code",
   "execution_count": 47,
   "metadata": {},
   "outputs": [
    {
     "name": "stdout",
     "output_type": "stream",
     "text": [
      "Top 5 products by orders\n"
     ]
    },
    {
     "data": {
      "text/plain": [
       "product_name\n",
       "Banana                    18726\n",
       "Bag of Organic Bananas    15480\n",
       "Organic Strawberries      10894\n",
       "Organic Baby Spinach       9784\n",
       "Large Lemon                8135\n",
       "Name: order_id, dtype: int64"
      ]
     },
     "execution_count": 47,
     "metadata": {},
     "output_type": "execute_result"
    }
   ],
   "source": [
    "print ('Top 5 products by orders')\n",
    "orders.groupby('product_name',sort =False)['order_id'].count().sort_values(ascending=False).head(5)"
   ]
  },
  {
   "cell_type": "code",
   "execution_count": 60,
   "metadata": {},
   "outputs": [
    {
     "data": {
      "image/png": "[encoded data removed]",
      "text/plain": [
       "<Figure size 1800x360 with 1 Axes>"
      ]
     },
     "metadata": {
      "needs_background": "light"
     },
     "output_type": "display_data"
    }
   ],
   "source": [
    "products_top10 = orders.groupby('product_name',sort =False)['order_id'].count().sort_values(ascending=False).head(10)\n",
    "\n",
    "plt.figure(figsize=(25,5))\n",
    "_=sns.barplot(products_top10.index, products_top10.values)\n",
    "_=plt.xlabel('Products')\n",
    "_=plt.ylabel('Orders')\n",
    "_=plt.title('Top 10 Products')"
   ]
  },
  {
   "cell_type": "code",
   "execution_count": 53,
   "metadata": {},
   "outputs": [
    {
     "data": {
      "text/plain": [
       "product_name\n",
       "Banana                    18726\n",
       "Bag of Organic Bananas    15480\n",
       "Organic Strawberries      10894\n",
       "Organic Baby Spinach       9784\n",
       "Large Lemon                8135\n",
       "Organic Avocado            7409\n",
       "Organic Hass Avocado       7293\n",
       "Strawberries               6494\n",
       "Limes                      6033\n",
       "Organic Raspberries        5546\n",
       "Organic Blueberries        4966\n",
       "Organic Whole Milk         4908\n",
       "Organic Cucumber           4613\n",
       "Organic Zucchini           4589\n",
       "Organic Yellow Onion       4290\n",
       "Organic Garlic             4158\n",
       "Seedless Red Grapes        4059\n",
       "Asparagus                  3868\n",
       "Organic Grape Tomatoes     3823\n",
       "Organic Red Onion          3818\n",
       "Name: order_id, dtype: int64"
      ]
     },
     "execution_count": 53,
     "metadata": {},
     "output_type": "execute_result"
    }
   ],
   "source": [
    "products_top10"
   ]
  },
  {
   "cell_type": "markdown",
   "metadata": {},
   "source": [
    "### When orders are made? in which day of week?"
   ]
  },
  {
   "cell_type": "code",
   "execution_count": 30,
   "metadata": {},
   "outputs": [
    {
     "data": {
      "text/plain": [
       "<matplotlib.axes._subplots.AxesSubplot at 0x11b09c820>"
      ]
     },
     "execution_count": 30,
     "metadata": {},
     "output_type": "execute_result"
    },
    {
     "data": {
      "image/png": "[encoded data removed]",
      "text/plain": [
       "<Figure size 432x288 with 1 Axes>"
      ]
     },
     "metadata": {
      "needs_background": "light"
     },
     "output_type": "display_data"
    }
   ],
   "source": [
    "sns.countplot(x='order_dow',data = orders ,palette=sns.color_palette(\"BuGn_d\",7))"
   ]
  },
  {
   "cell_type": "markdown",
   "metadata": {},
   "source": [
    "__It looks as though 0 represents Saturday and 1 represents Sunday. Wednesday is then the least popular day to make orders.__"
   ]
  },
  {
   "cell_type": "markdown",
   "metadata": {},
   "source": [
    "### Identifying the hour of a day when most orders are made?"
   ]
  },
  {
   "cell_type": "code",
   "execution_count": 29,
   "metadata": {},
   "outputs": [
    {
     "data": {
      "text/plain": [
       "<matplotlib.axes._subplots.AxesSubplot at 0x11e674790>"
      ]
     },
     "execution_count": 29,
     "metadata": {},
     "output_type": "execute_result"
    },
    {
     "data": {
      "image/png": "[encoded data removed]",
      "text/plain": [
       "<Figure size 432x288 with 1 Axes>"
      ]
     },
     "metadata": {
      "needs_background": "light"
     },
     "output_type": "display_data"
    }
   ],
   "source": [
    "sns.countplot(x='order_hour_of_day',data = orders, palette=sns.color_palette(\"PuBu_d\", 24) )"
   ]
  },
  {
   "cell_type": "markdown",
   "metadata": {},
   "source": [
    "The 10 AM - 12 PM hour is the most popular time frame to make orders, followed by a dip around lunch time and a pickup in the afternoon."
   ]
  },
  {
   "cell_type": "code",
   "execution_count": 32,
   "metadata": {},
   "outputs": [
    {
     "data": {
      "image/png": "[encoded data removed]",
      "text/plain": [
       "<Figure size 720x576 with 2 Axes>"
      ]
     },
     "metadata": {
      "needs_background": "light"
     },
     "output_type": "display_data"
    }
   ],
   "source": [
    "group_hour_dow = orders.groupby(['order_dow', 'order_hour_of_day'])['order_number'].aggregate('count').reset_index()\n",
    "group_hour_dow = group_hour_dow.pivot('order_dow', 'order_hour_of_day', 'order_number')\n",
    "\n",
    "plt.figure(figsize=(10,8))\n",
    "\n",
    "sns.heatmap(group_hour_dow, cmap='YlOrRd')\n",
    "\n",
    "plt.ylabel('Day of Week')\n",
    "plt.xlabel('Hour of the Day')\n",
    "plt.title('Number of Orders Day of Week vs Hour of Day')\n",
    "plt.show()"
   ]
  },
  {
   "cell_type": "markdown",
   "metadata": {},
   "source": [
    "__Saturday afternoon and Sunday morning are the most popular time to make orders.__"
   ]
  },
  {
   "cell_type": "markdown",
   "metadata": {},
   "source": [
    "## Avg Days since prior day"
   ]
  },
  {
   "cell_type": "code",
   "execution_count": 35,
   "metadata": {},
   "outputs": [
    {
     "data": {
      "text/plain": [
       "<matplotlib.axes._subplots.AxesSubplot at 0x120b54340>"
      ]
     },
     "execution_count": 35,
     "metadata": {},
     "output_type": "execute_result"
    },
    {
     "data": {
      "image/png": "[encoded data removed]",
      "text/plain": [
       "<Figure size 864x360 with 1 Axes>"
      ]
     },
     "metadata": {
      "needs_background": "light"
     },
     "output_type": "display_data"
    }
   ],
   "source": [
    "plt.figure(figsize=(12,5))\n",
    "sns.countplot(x='days_since_prior_order',data = orders ,palette=sns.color_palette(\"BuGn_d\",7))"
   ]
  },
  {
   "cell_type": "code",
   "execution_count": 39,
   "metadata": {},
   "outputs": [
    {
     "name": "stdout",
     "output_type": "stream",
     "text": [
      "Avg days of order sine prior order is 12 days\n"
     ]
    }
   ],
   "source": [
    "print ('Avg days of order sine prior order is {} days'.format(int(orders['days_since_prior_order'].mean())))"
   ]
  },
  {
   "cell_type": "markdown",
   "metadata": {},
   "source": [
    "### Count of Users by Number of Prior Orders"
   ]
  },
  {
   "cell_type": "code",
   "execution_count": 41,
   "metadata": {},
   "outputs": [
    {
     "data": {
      "image/png": "[encoded data removed]",
      "text/plain": [
       "<Figure size 1008x432 with 1 Axes>"
      ]
     },
     "metadata": {
      "needs_background": "light"
     },
     "output_type": "display_data"
    }
   ],
   "source": [
    "group_user_orders = orders.groupby('user_id')['order_number'].aggregate('max').reset_index()\n",
    "\n",
    "# sns hist may be better; but possible to make bin size 1?\n",
    "\n",
    "plt.figure(figsize=(14,6))\n",
    "\n",
    "sns.barplot(x=group_user_orders['order_number'].value_counts().index, y=group_user_orders['order_number'].value_counts().values)\n",
    "\n",
    "plt.title('Count of Users by Number of Prior Orders')\n",
    "plt.xlabel('Number of Prior Orders')\n",
    "plt.ylabel('Number of Users')\n",
    "# Did not find a great way in seaborn to make tick labels for every other step; maybe try using xmin(), xmax() or just pandas:\n",
    "plt.xticks(range(0, 99, 2), range(4,101,2), rotation='vertical')\n",
    "plt.show()"
   ]
  },
  {
   "cell_type": "markdown",
   "metadata": {},
   "source": [
    "### Distribution of Add to cart"
   ]
  },
  {
   "cell_type": "code",
   "execution_count": 46,
   "metadata": {},
   "outputs": [
    {
     "data": {
      "image/png": "[encoded data removed]",
      "text/plain": [
       "<Figure size 1440x360 with 1 Axes>"
      ]
     },
     "metadata": {
      "needs_background": "light"
     },
     "output_type": "display_data"
    }
   ],
   "source": [
    "\n",
    "order_sizes = orders.reset_index().groupby(['user_id', 'order_number'])['add_to_cart_order'].aggregate('max')\n",
    "\n",
    "plt.figure(figsize=(20,5))\n",
    "\n",
    "sns.barplot(order_sizes.value_counts().index, order_sizes.value_counts().values)\n",
    "\n",
    "plt.title('Count of Orders by Number of Items in Basket')\n",
    "plt.xlabel('Number of Items in Basket')\n",
    "plt.ylabel('Number of Orders')\n",
    "# Did not find a great way in seaborn to make tick labels for every other step; maybe try using xmin(), xmax() or just pandas:\n",
    "plt.xticks(range(0, 145, 2), range(1,146,2), rotation='vertical')\n",
    "plt.show()"
   ]
  },
  {
   "cell_type": "code",
   "execution_count": 61,
   "metadata": {},
   "outputs": [
    {
     "data": {
      "text/html": [
       "<div>\n",
       "<style scoped>\n",
       "    .dataframe tbody tr th:only-of-type {\n",
       "        vertical-align: middle;\n",
       "    }\n",
       "\n",
       "    .dataframe tbody tr th {\n",
       "        vertical-align: top;\n",
       "    }\n",
       "\n",
       "    .dataframe thead th {\n",
       "        text-align: right;\n",
       "    }\n",
       "</style>\n",
       "<table border=\"1\" class=\"dataframe\">\n",
       "  <thead>\n",
       "    <tr style=\"text-align: right;\">\n",
       "      <th></th>\n",
       "      <th>order_id</th>\n",
       "      <th>user_id</th>\n",
       "      <th>eval_set</th>\n",
       "      <th>order_number</th>\n",
       "      <th>order_dow</th>\n",
       "      <th>order_hour_of_day</th>\n",
       "      <th>days_since_prior_order</th>\n",
       "      <th>product_id</th>\n",
       "      <th>add_to_cart_order</th>\n",
       "      <th>reordered</th>\n",
       "      <th>product_name</th>\n",
       "      <th>aisle_id</th>\n",
       "      <th>department_id</th>\n",
       "      <th>aisle</th>\n",
       "      <th>department</th>\n",
       "      <th>aisle-department</th>\n",
       "    </tr>\n",
       "  </thead>\n",
       "  <tbody>\n",
       "    <tr>\n",
       "      <th>0</th>\n",
       "      <td>2539329</td>\n",
       "      <td>1</td>\n",
       "      <td>prior</td>\n",
       "      <td>1</td>\n",
       "      <td>2</td>\n",
       "      <td>8</td>\n",
       "      <td>NaN</td>\n",
       "      <td>NaN</td>\n",
       "      <td>NaN</td>\n",
       "      <td>NaN</td>\n",
       "      <td>NaN</td>\n",
       "      <td>NaN</td>\n",
       "      <td>NaN</td>\n",
       "      <td>NaN</td>\n",
       "      <td>NaN</td>\n",
       "      <td>NaN</td>\n",
       "    </tr>\n",
       "    <tr>\n",
       "      <th>1</th>\n",
       "      <td>2398795</td>\n",
       "      <td>1</td>\n",
       "      <td>prior</td>\n",
       "      <td>2</td>\n",
       "      <td>3</td>\n",
       "      <td>7</td>\n",
       "      <td>15.0</td>\n",
       "      <td>NaN</td>\n",
       "      <td>NaN</td>\n",
       "      <td>NaN</td>\n",
       "      <td>NaN</td>\n",
       "      <td>NaN</td>\n",
       "      <td>NaN</td>\n",
       "      <td>NaN</td>\n",
       "      <td>NaN</td>\n",
       "      <td>NaN</td>\n",
       "    </tr>\n",
       "    <tr>\n",
       "      <th>2</th>\n",
       "      <td>473747</td>\n",
       "      <td>1</td>\n",
       "      <td>prior</td>\n",
       "      <td>3</td>\n",
       "      <td>3</td>\n",
       "      <td>12</td>\n",
       "      <td>21.0</td>\n",
       "      <td>NaN</td>\n",
       "      <td>NaN</td>\n",
       "      <td>NaN</td>\n",
       "      <td>NaN</td>\n",
       "      <td>NaN</td>\n",
       "      <td>NaN</td>\n",
       "      <td>NaN</td>\n",
       "      <td>NaN</td>\n",
       "      <td>NaN</td>\n",
       "    </tr>\n",
       "    <tr>\n",
       "      <th>3</th>\n",
       "      <td>2254736</td>\n",
       "      <td>1</td>\n",
       "      <td>prior</td>\n",
       "      <td>4</td>\n",
       "      <td>4</td>\n",
       "      <td>7</td>\n",
       "      <td>29.0</td>\n",
       "      <td>NaN</td>\n",
       "      <td>NaN</td>\n",
       "      <td>NaN</td>\n",
       "      <td>NaN</td>\n",
       "      <td>NaN</td>\n",
       "      <td>NaN</td>\n",
       "      <td>NaN</td>\n",
       "      <td>NaN</td>\n",
       "      <td>NaN</td>\n",
       "    </tr>\n",
       "    <tr>\n",
       "      <th>4</th>\n",
       "      <td>431534</td>\n",
       "      <td>1</td>\n",
       "      <td>prior</td>\n",
       "      <td>5</td>\n",
       "      <td>4</td>\n",
       "      <td>15</td>\n",
       "      <td>28.0</td>\n",
       "      <td>NaN</td>\n",
       "      <td>NaN</td>\n",
       "      <td>NaN</td>\n",
       "      <td>NaN</td>\n",
       "      <td>NaN</td>\n",
       "      <td>NaN</td>\n",
       "      <td>NaN</td>\n",
       "      <td>NaN</td>\n",
       "      <td>NaN</td>\n",
       "    </tr>\n",
       "  </tbody>\n",
       "</table>\n",
       "</div>"
      ],
      "text/plain": [
       "   order_id  user_id eval_set  order_number  order_dow  order_hour_of_day  \\\n",
       "0   2539329        1    prior             1          2                  8   \n",
       "1   2398795        1    prior             2          3                  7   \n",
       "2    473747        1    prior             3          3                 12   \n",
       "3   2254736        1    prior             4          4                  7   \n",
       "4    431534        1    prior             5          4                 15   \n",
       "\n",
       "   days_since_prior_order  product_id  add_to_cart_order  reordered  \\\n",
       "0                     NaN         NaN                NaN        NaN   \n",
       "1                    15.0         NaN                NaN        NaN   \n",
       "2                    21.0         NaN                NaN        NaN   \n",
       "3                    29.0         NaN                NaN        NaN   \n",
       "4                    28.0         NaN                NaN        NaN   \n",
       "\n",
       "  product_name  aisle_id  department_id aisle department aisle-department  \n",
       "0          NaN       NaN            NaN   NaN        NaN              NaN  \n",
       "1          NaN       NaN            NaN   NaN        NaN              NaN  \n",
       "2          NaN       NaN            NaN   NaN        NaN              NaN  \n",
       "3          NaN       NaN            NaN   NaN        NaN              NaN  \n",
       "4          NaN       NaN            NaN   NaN        NaN              NaN  "
      ]
     },
     "execution_count": 61,
     "metadata": {},
     "output_type": "execute_result"
    }
   ],
   "source": [
    "orders.head(5)"
   ]
  },
  {
   "cell_type": "markdown",
   "metadata": {},
   "source": [
    "### Top 10 Orders by Aisle - Departments"
   ]
  },
  {
   "cell_type": "code",
   "execution_count": 67,
   "metadata": {},
   "outputs": [
    {
     "data": {
      "image/png": "[encoded data removed]",
      "text/plain": [
       "<Figure size 1800x360 with 1 Axes>"
      ]
     },
     "metadata": {
      "needs_background": "light"
     },
     "output_type": "display_data"
    }
   ],
   "source": [
    "orders_top10 = orders.groupby('aisle-department',sort =False)['order_id'].count().sort_values(ascending=False).head(10)\n",
    "\n",
    "plt.figure(figsize=(25,5))\n",
    "_=sns.barplot(orders_top10.index, orders_top10.values)\n",
    "_=plt.xlabel('Aisle & Department')\n",
    "_=plt.ylabel('Orders')\n",
    "_=plt.title('Top 10 Orders by Aisle & Department')"
   ]
  },
  {
   "cell_type": "code",
   "execution_count": 65,
   "metadata": {},
   "outputs": [
    {
     "data": {
      "image/png": "[encoded data removed]",
      "text/plain": [
       "<Figure size 1800x360 with 1 Axes>"
      ]
     },
     "metadata": {
      "needs_background": "light"
     },
     "output_type": "display_data"
    }
   ],
   "source": [
    "orders_dept_top10 = pd.DataFrame(orders.groupby('department',sort =False)['order_id'].count()).head(10)\n",
    "\n",
    "plt.figure(figsize=(25,5))\n",
    "_=sns.barplot(orders_top10.index, orders_top10.values, )\n",
    "_=plt.xlabel('Aisle & Department')\n",
    "_=plt.ylabel('Orders')\n",
    "_=plt.title('Top 10 Orders by Aisle & Department')"
   ]
  },
  {
   "cell_type": "code",
   "execution_count": 79,
   "metadata": {},
   "outputs": [],
   "source": [
    "total_rows = len(orders) - len(orders[orders['product_id'].isnull()])\n",
    "departments_pct = pd.DataFrame(orders.groupby('department',sort =False)['order_id'].count())\n",
    "\n",
    "departments_pct = departments_pct.reset_index()\n",
    "\n",
    "departments_pct['total'] = total_rows\n",
    "\n",
    "departments_pct['total_perc'] = (departments_pct['order_id']/departments_pct['total'] )*100"
   ]
  },
  {
   "cell_type": "code",
   "execution_count": 80,
   "metadata": {},
   "outputs": [
    {
     "data": {
      "text/html": [
       "<div>\n",
       "<style scoped>\n",
       "    .dataframe tbody tr th:only-of-type {\n",
       "        vertical-align: middle;\n",
       "    }\n",
       "\n",
       "    .dataframe tbody tr th {\n",
       "        vertical-align: top;\n",
       "    }\n",
       "\n",
       "    .dataframe thead th {\n",
       "        text-align: right;\n",
       "    }\n",
       "</style>\n",
       "<table border=\"1\" class=\"dataframe\">\n",
       "  <thead>\n",
       "    <tr style=\"text-align: right;\">\n",
       "      <th></th>\n",
       "      <th>department</th>\n",
       "      <th>order_id</th>\n",
       "      <th>total</th>\n",
       "      <th>total_perc</th>\n",
       "    </tr>\n",
       "  </thead>\n",
       "  <tbody>\n",
       "    <tr>\n",
       "      <th>0</th>\n",
       "      <td>dairy eggs</td>\n",
       "      <td>217051</td>\n",
       "      <td>1384617</td>\n",
       "      <td>15.675887</td>\n",
       "    </tr>\n",
       "    <tr>\n",
       "      <th>1</th>\n",
       "      <td>beverages</td>\n",
       "      <td>114046</td>\n",
       "      <td>1384617</td>\n",
       "      <td>8.236646</td>\n",
       "    </tr>\n",
       "    <tr>\n",
       "      <th>2</th>\n",
       "      <td>snacks</td>\n",
       "      <td>118862</td>\n",
       "      <td>1384617</td>\n",
       "      <td>8.584468</td>\n",
       "    </tr>\n",
       "    <tr>\n",
       "      <th>3</th>\n",
       "      <td>household</td>\n",
       "      <td>35986</td>\n",
       "      <td>1384617</td>\n",
       "      <td>2.598986</td>\n",
       "    </tr>\n",
       "    <tr>\n",
       "      <th>4</th>\n",
       "      <td>breakfast</td>\n",
       "      <td>29500</td>\n",
       "      <td>1384617</td>\n",
       "      <td>2.130553</td>\n",
       "    </tr>\n",
       "    <tr>\n",
       "      <th>5</th>\n",
       "      <td>produce</td>\n",
       "      <td>409087</td>\n",
       "      <td>1384617</td>\n",
       "      <td>29.545138</td>\n",
       "    </tr>\n",
       "    <tr>\n",
       "      <th>6</th>\n",
       "      <td>frozen</td>\n",
       "      <td>100426</td>\n",
       "      <td>1384617</td>\n",
       "      <td>7.252980</td>\n",
       "    </tr>\n",
       "    <tr>\n",
       "      <th>7</th>\n",
       "      <td>deli</td>\n",
       "      <td>44291</td>\n",
       "      <td>1384617</td>\n",
       "      <td>3.198791</td>\n",
       "    </tr>\n",
       "    <tr>\n",
       "      <th>8</th>\n",
       "      <td>canned goods</td>\n",
       "      <td>46799</td>\n",
       "      <td>1384617</td>\n",
       "      <td>3.379924</td>\n",
       "    </tr>\n",
       "    <tr>\n",
       "      <th>9</th>\n",
       "      <td>personal care</td>\n",
       "      <td>21570</td>\n",
       "      <td>1384617</td>\n",
       "      <td>1.557832</td>\n",
       "    </tr>\n",
       "    <tr>\n",
       "      <th>10</th>\n",
       "      <td>international</td>\n",
       "      <td>11902</td>\n",
       "      <td>1384617</td>\n",
       "      <td>0.859588</td>\n",
       "    </tr>\n",
       "    <tr>\n",
       "      <th>11</th>\n",
       "      <td>pantry</td>\n",
       "      <td>81242</td>\n",
       "      <td>1384617</td>\n",
       "      <td>5.867471</td>\n",
       "    </tr>\n",
       "    <tr>\n",
       "      <th>12</th>\n",
       "      <td>meat seafood</td>\n",
       "      <td>30307</td>\n",
       "      <td>1384617</td>\n",
       "      <td>2.188836</td>\n",
       "    </tr>\n",
       "    <tr>\n",
       "      <th>13</th>\n",
       "      <td>bakery</td>\n",
       "      <td>48394</td>\n",
       "      <td>1384617</td>\n",
       "      <td>3.495118</td>\n",
       "    </tr>\n",
       "    <tr>\n",
       "      <th>14</th>\n",
       "      <td>other</td>\n",
       "      <td>1795</td>\n",
       "      <td>1384617</td>\n",
       "      <td>0.129639</td>\n",
       "    </tr>\n",
       "    <tr>\n",
       "      <th>15</th>\n",
       "      <td>alcohol</td>\n",
       "      <td>5598</td>\n",
       "      <td>1384617</td>\n",
       "      <td>0.404300</td>\n",
       "    </tr>\n",
       "    <tr>\n",
       "      <th>16</th>\n",
       "      <td>dry goods pasta</td>\n",
       "      <td>38713</td>\n",
       "      <td>1384617</td>\n",
       "      <td>2.795936</td>\n",
       "    </tr>\n",
       "    <tr>\n",
       "      <th>17</th>\n",
       "      <td>pets</td>\n",
       "      <td>4497</td>\n",
       "      <td>1384617</td>\n",
       "      <td>0.324783</td>\n",
       "    </tr>\n",
       "    <tr>\n",
       "      <th>18</th>\n",
       "      <td>babies</td>\n",
       "      <td>14941</td>\n",
       "      <td>1384617</td>\n",
       "      <td>1.079071</td>\n",
       "    </tr>\n",
       "    <tr>\n",
       "      <th>19</th>\n",
       "      <td>bulk</td>\n",
       "      <td>1359</td>\n",
       "      <td>1384617</td>\n",
       "      <td>0.098150</td>\n",
       "    </tr>\n",
       "    <tr>\n",
       "      <th>20</th>\n",
       "      <td>missing</td>\n",
       "      <td>8251</td>\n",
       "      <td>1384617</td>\n",
       "      <td>0.595905</td>\n",
       "    </tr>\n",
       "  </tbody>\n",
       "</table>\n",
       "</div>"
      ],
      "text/plain": [
       "         department  order_id    total  total_perc\n",
       "0        dairy eggs    217051  1384617   15.675887\n",
       "1         beverages    114046  1384617    8.236646\n",
       "2            snacks    118862  1384617    8.584468\n",
       "3         household     35986  1384617    2.598986\n",
       "4         breakfast     29500  1384617    2.130553\n",
       "5           produce    409087  1384617   29.545138\n",
       "6            frozen    100426  1384617    7.252980\n",
       "7              deli     44291  1384617    3.198791\n",
       "8      canned goods     46799  1384617    3.379924\n",
       "9     personal care     21570  1384617    1.557832\n",
       "10    international     11902  1384617    0.859588\n",
       "11           pantry     81242  1384617    5.867471\n",
       "12     meat seafood     30307  1384617    2.188836\n",
       "13           bakery     48394  1384617    3.495118\n",
       "14            other      1795  1384617    0.129639\n",
       "15          alcohol      5598  1384617    0.404300\n",
       "16  dry goods pasta     38713  1384617    2.795936\n",
       "17             pets      4497  1384617    0.324783\n",
       "18           babies     14941  1384617    1.079071\n",
       "19             bulk      1359  1384617    0.098150\n",
       "20          missing      8251  1384617    0.595905"
      ]
     },
     "execution_count": 80,
     "metadata": {},
     "output_type": "execute_result"
    }
   ],
   "source": [
    "departments_pct"
   ]
  },
  {
   "cell_type": "markdown",
   "metadata": {},
   "source": [
    "## Reorders"
   ]
  },
  {
   "cell_type": "code",
   "execution_count": 101,
   "metadata": {},
   "outputs": [],
   "source": [
    "orders = orders[orders['eval_set']=='train']"
   ]
  },
  {
   "cell_type": "code",
   "execution_count": 105,
   "metadata": {},
   "outputs": [
    {
     "data": {
      "text/plain": [
       "order_id                    int64\n",
       "user_id                     int64\n",
       "eval_set                   object\n",
       "order_number                int64\n",
       "order_dow                   int64\n",
       "order_hour_of_day           int64\n",
       "days_since_prior_order    float64\n",
       "product_id                float64\n",
       "add_to_cart_order         float64\n",
       "reordered                 float64\n",
       "product_name               object\n",
       "aisle_id                  float64\n",
       "department_id             float64\n",
       "aisle                      object\n",
       "department                 object\n",
       "aisle-department           object\n",
       "dtype: object"
      ]
     },
     "execution_count": 105,
     "metadata": {},
     "output_type": "execute_result"
    }
   ],
   "source": [
    "orders.dtypes"
   ]
  },
  {
   "cell_type": "code",
   "execution_count": 103,
   "metadata": {},
   "outputs": [
    {
     "data": {
      "text/plain": [
       "1.0    828824\n",
       "0.0    555793\n",
       "Name: reordered, dtype: int64"
      ]
     },
     "execution_count": 103,
     "metadata": {},
     "output_type": "execute_result"
    }
   ],
   "source": [
    "orders['reordered'].value_counts()"
   ]
  },
  {
   "cell_type": "markdown",
   "metadata": {},
   "source": [
    "### How many items are reordered\n"
   ]
  },
  {
   "cell_type": "code",
   "execution_count": 107,
   "metadata": {},
   "outputs": [
    {
     "data": {
      "text/plain": [
       "30176"
      ]
     },
     "execution_count": 107,
     "metadata": {},
     "output_type": "execute_result"
    }
   ],
   "source": [
    "orders[orders['reordered']== 1]['product_id'].nunique()"
   ]
  },
  {
   "cell_type": "markdown",
   "metadata": {},
   "source": [
    "#### Top 10 items most likely to re-order"
   ]
  },
  {
   "cell_type": "raw",
   "metadata": {},
   "source": [
    "reorders = orders[orders['reordered']== 1]\n",
    "\n",
    "product_reorders = pd.DataFrame(reorders.groupby('product_name',sort =False)['order_id'].count())"
   ]
  },
  {
   "cell_type": "code",
   "execution_count": 185,
   "metadata": {},
   "outputs": [
    {
     "data": {
      "text/html": [
       "<div>\n",
       "<style scoped>\n",
       "    .dataframe tbody tr th:only-of-type {\n",
       "        vertical-align: middle;\n",
       "    }\n",
       "\n",
       "    .dataframe tbody tr th {\n",
       "        vertical-align: top;\n",
       "    }\n",
       "\n",
       "    .dataframe thead th {\n",
       "        text-align: right;\n",
       "    }\n",
       "</style>\n",
       "<table border=\"1\" class=\"dataframe\">\n",
       "  <thead>\n",
       "    <tr style=\"text-align: right;\">\n",
       "      <th></th>\n",
       "      <th>reordered</th>\n",
       "    </tr>\n",
       "    <tr>\n",
       "      <th>product_name</th>\n",
       "      <th></th>\n",
       "    </tr>\n",
       "  </thead>\n",
       "  <tbody>\n",
       "    <tr>\n",
       "      <th>Organic Half &amp; Half</th>\n",
       "      <td>2129.0</td>\n",
       "    </tr>\n",
       "    <tr>\n",
       "      <th>Zero Calorie Cola</th>\n",
       "      <td>285.0</td>\n",
       "    </tr>\n",
       "    <tr>\n",
       "      <th>Soda</th>\n",
       "      <td>1221.0</td>\n",
       "    </tr>\n",
       "    <tr>\n",
       "      <th>0% Greek Strained Yogurt</th>\n",
       "      <td>329.0</td>\n",
       "    </tr>\n",
       "    <tr>\n",
       "      <th>Aged White Cheddar Popcorn</th>\n",
       "      <td>77.0</td>\n",
       "    </tr>\n",
       "    <tr>\n",
       "      <th>Milk Chocolate Almonds</th>\n",
       "      <td>208.0</td>\n",
       "    </tr>\n",
       "    <tr>\n",
       "      <th>XL Pick-A-Size Paper Towel Rolls</th>\n",
       "      <td>62.0</td>\n",
       "    </tr>\n",
       "    <tr>\n",
       "      <th>Pistachios</th>\n",
       "      <td>78.0</td>\n",
       "    </tr>\n",
       "    <tr>\n",
       "      <th>Cinnamon Toast Crunch</th>\n",
       "      <td>116.0</td>\n",
       "    </tr>\n",
       "    <tr>\n",
       "      <th>Organic String Cheese</th>\n",
       "      <td>139.0</td>\n",
       "    </tr>\n",
       "  </tbody>\n",
       "</table>\n",
       "</div>"
      ],
      "text/plain": [
       "                                  reordered\n",
       "product_name                               \n",
       "Organic Half & Half                  2129.0\n",
       "Zero Calorie Cola                     285.0\n",
       "Soda                                 1221.0\n",
       "0% Greek Strained Yogurt              329.0\n",
       "Aged White Cheddar Popcorn             77.0\n",
       "Milk Chocolate Almonds                208.0\n",
       "XL Pick-A-Size Paper Towel Rolls       62.0\n",
       "Pistachios                             78.0\n",
       "Cinnamon Toast Crunch                 116.0\n",
       "Organic String Cheese                 139.0"
      ]
     },
     "execution_count": 185,
     "metadata": {},
     "output_type": "execute_result"
    }
   ],
   "source": [
    "product_reorders.head(10)"
   ]
  },
  {
   "cell_type": "markdown",
   "metadata": {},
   "source": [
    "### Hypothesis Testing"
   ]
  },
  {
   "cell_type": "markdown",
   "metadata": {},
   "source": [
    "#### 1. all products that are ordered are re-ordered 50% of the time\n",
    "\n",
    "__Null Hypothesis: Avg Reordered percentage is greater than 50%\n",
    "Alternate Hypothesis : Avg Reordered percentage is NOT greater than 50%__"
   ]
  },
  {
   "cell_type": "code",
   "execution_count": 187,
   "metadata": {},
   "outputs": [],
   "source": [
    "product_orders = pd.DataFrame(orders.groupby('product_name',sort =False)['order_id'].count())"
   ]
  },
  {
   "cell_type": "code",
   "execution_count": 196,
   "metadata": {},
   "outputs": [],
   "source": [
    "reorders_pct = pd.merge(product_reorders,product_orders,on ='product_name')\n",
    "reorders_pct['reorder_pct'] = (reorders_pct['reordered']/reorders_pct['order_id']) * 100"
   ]
  },
  {
   "cell_type": "code",
   "execution_count": 198,
   "metadata": {},
   "outputs": [
    {
     "data": {
      "text/plain": [
       "56.38695250495421"
      ]
     },
     "execution_count": 198,
     "metadata": {},
     "output_type": "execute_result"
    }
   ],
   "source": [
    "reorders_pct['reorder_pct'].mean() # On an avg all products are re-ordered more than 50%"
   ]
  },
  {
   "cell_type": "code",
   "execution_count": 226,
   "metadata": {},
   "outputs": [
    {
     "data": {
      "text/plain": [
       "23.83556901996234"
      ]
     },
     "execution_count": 226,
     "metadata": {},
     "output_type": "execute_result"
    }
   ],
   "source": [
    "reorders_pct['reorder_pct'].std()"
   ]
  },
  {
   "cell_type": "code",
   "execution_count": 254,
   "metadata": {},
   "outputs": [
    {
     "data": {
      "text/html": [
       "<div>\n",
       "<style scoped>\n",
       "    .dataframe tbody tr th:only-of-type {\n",
       "        vertical-align: middle;\n",
       "    }\n",
       "\n",
       "    .dataframe tbody tr th {\n",
       "        vertical-align: top;\n",
       "    }\n",
       "\n",
       "    .dataframe thead th {\n",
       "        text-align: right;\n",
       "    }\n",
       "</style>\n",
       "<table border=\"1\" class=\"dataframe\">\n",
       "  <thead>\n",
       "    <tr style=\"text-align: right;\">\n",
       "      <th></th>\n",
       "      <th>reordered</th>\n",
       "      <th>order_id</th>\n",
       "      <th>reorder_pct</th>\n",
       "    </tr>\n",
       "    <tr>\n",
       "      <th>product_name</th>\n",
       "      <th></th>\n",
       "      <th></th>\n",
       "      <th></th>\n",
       "    </tr>\n",
       "  </thead>\n",
       "  <tbody>\n",
       "    <tr>\n",
       "      <th>Organic Half &amp; Half</th>\n",
       "      <td>2129.0</td>\n",
       "      <td>2646</td>\n",
       "      <td>80.461073</td>\n",
       "    </tr>\n",
       "    <tr>\n",
       "      <th>Zero Calorie Cola</th>\n",
       "      <td>285.0</td>\n",
       "      <td>347</td>\n",
       "      <td>82.132565</td>\n",
       "    </tr>\n",
       "    <tr>\n",
       "      <th>Soda</th>\n",
       "      <td>1221.0</td>\n",
       "      <td>1507</td>\n",
       "      <td>81.021898</td>\n",
       "    </tr>\n",
       "    <tr>\n",
       "      <th>0% Greek Strained Yogurt</th>\n",
       "      <td>329.0</td>\n",
       "      <td>413</td>\n",
       "      <td>79.661017</td>\n",
       "    </tr>\n",
       "    <tr>\n",
       "      <th>Aged White Cheddar Popcorn</th>\n",
       "      <td>77.0</td>\n",
       "      <td>136</td>\n",
       "      <td>56.617647</td>\n",
       "    </tr>\n",
       "    <tr>\n",
       "      <th>...</th>\n",
       "      <td>...</td>\n",
       "      <td>...</td>\n",
       "      <td>...</td>\n",
       "    </tr>\n",
       "    <tr>\n",
       "      <th>Original Canola Cooking Spray</th>\n",
       "      <td>1.0</td>\n",
       "      <td>6</td>\n",
       "      <td>16.666667</td>\n",
       "    </tr>\n",
       "    <tr>\n",
       "      <th>Organic Savory Beef Gravy</th>\n",
       "      <td>1.0</td>\n",
       "      <td>4</td>\n",
       "      <td>25.000000</td>\n",
       "    </tr>\n",
       "    <tr>\n",
       "      <th>Honey Stix</th>\n",
       "      <td>1.0</td>\n",
       "      <td>2</td>\n",
       "      <td>50.000000</td>\n",
       "    </tr>\n",
       "    <tr>\n",
       "      <th>100% Juice, Rio Red Grapefruit</th>\n",
       "      <td>1.0</td>\n",
       "      <td>1</td>\n",
       "      <td>100.000000</td>\n",
       "    </tr>\n",
       "    <tr>\n",
       "      <th>Puppy Complete Nutrition Chicken &amp; Beef Dinner Wet Dog Food</th>\n",
       "      <td>1.0</td>\n",
       "      <td>1</td>\n",
       "      <td>100.000000</td>\n",
       "    </tr>\n",
       "  </tbody>\n",
       "</table>\n",
       "<p>30176 rows × 3 columns</p>\n",
       "</div>"
      ],
      "text/plain": [
       "                                                    reordered  order_id  \\\n",
       "product_name                                                              \n",
       "Organic Half & Half                                    2129.0      2646   \n",
       "Zero Calorie Cola                                       285.0       347   \n",
       "Soda                                                   1221.0      1507   \n",
       "0% Greek Strained Yogurt                                329.0       413   \n",
       "Aged White Cheddar Popcorn                               77.0       136   \n",
       "...                                                       ...       ...   \n",
       "Original Canola Cooking Spray                             1.0         6   \n",
       "Organic Savory Beef Gravy                                 1.0         4   \n",
       "Honey Stix                                                1.0         2   \n",
       "100% Juice, Rio Red Grapefruit                            1.0         1   \n",
       "Puppy Complete Nutrition Chicken & Beef Dinner ...        1.0         1   \n",
       "\n",
       "                                                    reorder_pct  \n",
       "product_name                                                     \n",
       "Organic Half & Half                                   80.461073  \n",
       "Zero Calorie Cola                                     82.132565  \n",
       "Soda                                                  81.021898  \n",
       "0% Greek Strained Yogurt                              79.661017  \n",
       "Aged White Cheddar Popcorn                            56.617647  \n",
       "...                                                         ...  \n",
       "Original Canola Cooking Spray                         16.666667  \n",
       "Organic Savory Beef Gravy                             25.000000  \n",
       "Honey Stix                                            50.000000  \n",
       "100% Juice, Rio Red Grapefruit                       100.000000  \n",
       "Puppy Complete Nutrition Chicken & Beef Dinner ...   100.000000  \n",
       "\n",
       "[30176 rows x 3 columns]"
      ]
     },
     "execution_count": 254,
     "metadata": {},
     "output_type": "execute_result"
    }
   ],
   "source": [
    "reorders_pct"
   ]
  },
  {
   "cell_type": "markdown",
   "metadata": {},
   "source": [
    "### 1 Sample t test"
   ]
  },
  {
   "cell_type": "markdown",
   "metadata": {},
   "source": [
    "__Null Hypothesis: Avg Reordered percentage is greater than 50%\n",
    "Alternate Hypothesis : Avg Reordered percentage is NOT greater than 50%__"
   ]
  },
  {
   "cell_type": "code",
   "execution_count": 209,
   "metadata": {},
   "outputs": [],
   "source": [
    "reorder_product_percentages = reorders_pct['reorder_pct']\n",
    "ro_pct =[]\n",
    "\n",
    "def get_sample(list1,n):\n",
    "    return np.random.choice(list1,n)\n",
    "\n",
    "for i in range(10000):\n",
    "    ro_pct.append(np.mean(get_sample(reorder_product_percentages,100)))"
   ]
  },
  {
   "cell_type": "code",
   "execution_count": 210,
   "metadata": {},
   "outputs": [
    {
     "data": {
      "text/plain": [
       "NormaltestResult(statistic=2.2207910255532903, pvalue=0.3294286420685409)"
      ]
     },
     "execution_count": 210,
     "metadata": {},
     "output_type": "execute_result"
    }
   ],
   "source": [
    "# checking data is normally distributed\n",
    "stats.normaltest(ro_pct)"
   ]
  },
  {
   "cell_type": "code",
   "execution_count": null,
   "metadata": {},
   "outputs": [],
   "source": [
    "# SInce p-value is > alpha(0.05), it fails to reject the NULL Hypothesis, so data is normally distributed"
   ]
  },
  {
   "cell_type": "code",
   "execution_count": 247,
   "metadata": {},
   "outputs": [],
   "source": [
    "\n",
    "test_stats,p_value = stats.ttest_1samp(ro_pct,50)"
   ]
  },
  {
   "cell_type": "code",
   "execution_count": 250,
   "metadata": {},
   "outputs": [
    {
     "data": {
      "text/plain": [
       "-26.7729752412925"
      ]
     },
     "execution_count": 250,
     "metadata": {},
     "output_type": "execute_result"
    }
   ],
   "source": [
    "test_statistics = (50- 56.38) / (23.83/ np.sqrt(len(ro_pct)))\n",
    "test_statistics"
   ]
  },
  {
   "cell_type": "code",
   "execution_count": 224,
   "metadata": {},
   "outputs": [
    {
     "data": {
      "text/plain": [
       "(270.20194228654356, 0.0)"
      ]
     },
     "execution_count": 224,
     "metadata": {},
     "output_type": "execute_result"
    }
   ],
   "source": [
    "test_stats,p_value "
   ]
  },
  {
   "cell_type": "markdown",
   "metadata": {},
   "source": [
    "__Conclusion of Hypothesis Testing : This shows all products are not having reorder pct > 50%__"
   ]
  },
  {
   "cell_type": "markdown",
   "metadata": {},
   "source": [
    "### 2. Hypothesis Testing"
   ]
  },
  {
   "cell_type": "markdown",
   "metadata": {},
   "source": [
    "__Null Hypothesis :There is no difference between weekend and weekdays orders \n",
    "Alternate Hypothesis: More orders are created on weekends when compared to weekdays__"
   ]
  },
  {
   "cell_type": "markdown",
   "metadata": {},
   "source": [
    "#### 2 sample t test"
   ]
  },
  {
   "cell_type": "code",
   "execution_count": 272,
   "metadata": {},
   "outputs": [],
   "source": [
    "day_orders = pd.DataFrame(orders.groupby(['order_dow','user_id'])['order_id'].count().reset_index())\n",
    "day_orders.columns = ['order_dow','user_id','orders']"
   ]
  },
  {
   "cell_type": "code",
   "execution_count": 273,
   "metadata": {},
   "outputs": [
    {
     "data": {
      "text/html": [
       "<div>\n",
       "<style scoped>\n",
       "    .dataframe tbody tr th:only-of-type {\n",
       "        vertical-align: middle;\n",
       "    }\n",
       "\n",
       "    .dataframe tbody tr th {\n",
       "        vertical-align: top;\n",
       "    }\n",
       "\n",
       "    .dataframe thead th {\n",
       "        text-align: right;\n",
       "    }\n",
       "</style>\n",
       "<table border=\"1\" class=\"dataframe\">\n",
       "  <thead>\n",
       "    <tr style=\"text-align: right;\">\n",
       "      <th></th>\n",
       "      <th>order_dow</th>\n",
       "      <th>user_id</th>\n",
       "      <th>orders</th>\n",
       "    </tr>\n",
       "  </thead>\n",
       "  <tbody>\n",
       "    <tr>\n",
       "      <th>0</th>\n",
       "      <td>0</td>\n",
       "      <td>5</td>\n",
       "      <td>9</td>\n",
       "    </tr>\n",
       "    <tr>\n",
       "      <th>1</th>\n",
       "      <td>0</td>\n",
       "      <td>10</td>\n",
       "      <td>4</td>\n",
       "    </tr>\n",
       "    <tr>\n",
       "      <th>2</th>\n",
       "      <td>0</td>\n",
       "      <td>13</td>\n",
       "      <td>5</td>\n",
       "    </tr>\n",
       "    <tr>\n",
       "      <th>3</th>\n",
       "      <td>0</td>\n",
       "      <td>24</td>\n",
       "      <td>1</td>\n",
       "    </tr>\n",
       "    <tr>\n",
       "      <th>4</th>\n",
       "      <td>0</td>\n",
       "      <td>37</td>\n",
       "      <td>12</td>\n",
       "    </tr>\n",
       "  </tbody>\n",
       "</table>\n",
       "</div>"
      ],
      "text/plain": [
       "   order_dow  user_id  orders\n",
       "0          0        5       9\n",
       "1          0       10       4\n",
       "2          0       13       5\n",
       "3          0       24       1\n",
       "4          0       37      12"
      ]
     },
     "execution_count": 273,
     "metadata": {},
     "output_type": "execute_result"
    }
   ],
   "source": [
    "day_orders.head() # 0 is Saturday, 1 is Sunday and so on"
   ]
  },
  {
   "cell_type": "code",
   "execution_count": 278,
   "metadata": {},
   "outputs": [],
   "source": [
    "# 2 populations\n",
    "weekend_orders = day_orders[(day_orders['order_dow'] == 0 ) | (day_orders['order_dow'] == 1)]['orders']\n",
    "weekday_orders = day_orders[(day_orders['order_dow'] != 0 ) & (day_orders['order_dow'] != 1)]['orders']"
   ]
  },
  {
   "cell_type": "code",
   "execution_count": 281,
   "metadata": {},
   "outputs": [
    {
     "data": {
      "image/png": "[encoded data removed]",
      "text/plain": [
       "<Figure size 432x288 with 2 Axes>"
      ]
     },
     "metadata": {
      "needs_background": "light"
     },
     "output_type": "display_data"
    }
   ],
   "source": [
    "plt.subplot(1,2,1)\n",
    "_=plt.hist(weekend_orders)\n",
    "_=plt.title('Weekends')\n",
    "plt.subplot(1,2,2)\n",
    "_=plt.hist(weekday_orders)\n",
    "_=plt.title('Weekdays')"
   ]
  },
  {
   "cell_type": "code",
   "execution_count": null,
   "metadata": {},
   "outputs": [],
   "source": [
    "# Checking whether data is normally distributed or not\n",
    "# Null Hypo: Data normally distributed\n",
    "# Atlernate Hypo : Data not normally distributed"
   ]
  },
  {
   "cell_type": "code",
   "execution_count": 280,
   "metadata": {},
   "outputs": [
    {
     "data": {
      "text/plain": [
       "NormaltestResult(statistic=24787.54176540687, pvalue=0.0)"
      ]
     },
     "execution_count": 280,
     "metadata": {},
     "output_type": "execute_result"
    }
   ],
   "source": [
    "stats.normaltest(weekend_orders)\n",
    "stats.normaltest(weekday_orders) # Data is not normally distributed"
   ]
  },
  {
   "cell_type": "code",
   "execution_count": 286,
   "metadata": {},
   "outputs": [],
   "source": [
    "# Bootstrapping\n",
    "\n",
    "weekend_sample =[]\n",
    "weekday_sample =[]\n",
    "\n",
    "def get_sample(list1,n):\n",
    "    return np.random.choice(list1,n)\n",
    "\n",
    "for i in range(100):\n",
    "    weekend_sample.append(np.mean(get_sample(weekend_orders,100)))\n",
    "    weekday_sample.append(np.mean(get_sample(weekday_orders,100)))"
   ]
  },
  {
   "cell_type": "code",
   "execution_count": 287,
   "metadata": {},
   "outputs": [
    {
     "data": {
      "text/plain": [
       "(NormaltestResult(statistic=3.5590697391469086, pvalue=0.16871660424691584),\n",
       " NormaltestResult(statistic=3.2910137367494263, pvalue=0.19291475561953494))"
      ]
     },
     "execution_count": 287,
     "metadata": {},
     "output_type": "execute_result"
    }
   ],
   "source": [
    "stats.normaltest(weekend_sample), stats.normaltest(weekday_sample)"
   ]
  },
  {
   "cell_type": "code",
   "execution_count": null,
   "metadata": {},
   "outputs": [],
   "source": [
    "# Failed to Reject the NULL Hypothesis so data is normally distributed"
   ]
  },
  {
   "cell_type": "code",
   "execution_count": 288,
   "metadata": {},
   "outputs": [
    {
     "data": {
      "text/plain": [
       "(9.247512678675012, 3.7413786536621316e-17)"
      ]
     },
     "execution_count": 288,
     "metadata": {},
     "output_type": "execute_result"
    }
   ],
   "source": [
    "test_stats,p_value = stats.ttest_ind(weekend_sample,weekday_sample)\n",
    "test_stats,p_value"
   ]
  },
  {
   "cell_type": "code",
   "execution_count": null,
   "metadata": {},
   "outputs": [],
   "source": [
    "Since p_value is less than 0.05, reject NULL Hypothesis that There is no difference between weekend and weekdays orders"
   ]
  },
  {
   "cell_type": "markdown",
   "metadata": {},
   "source": [
    "__Conclusion of Hypothesis Testing is There is a difference between weekend and weekday orders__"
   ]
  },
  {
   "cell_type": "markdown",
   "metadata": {},
   "source": [
    "## 2. Top re-ordered products by Aisle/Department"
   ]
  },
  {
   "cell_type": "code",
   "execution_count": 235,
   "metadata": {},
   "outputs": [
    {
     "data": {
      "text/plain": [
       "department\n",
       "produce            271886\n",
       "dairy eggs         146502\n",
       "beverages           75060\n",
       "snacks              69102\n",
       "frozen              56168\n",
       "bakery              30692\n",
       "pantry              29498\n",
       "deli                27367\n",
       "canned goods        22782\n",
       "dry goods pasta     18885\n",
       "Name: order_id, dtype: int64"
      ]
     },
     "execution_count": 235,
     "metadata": {},
     "output_type": "execute_result"
    }
   ],
   "source": [
    "reorders.groupby('department',sort =False)['order_id'].count().sort_values(ascending=False).head(10)\n"
   ]
  },
  {
   "cell_type": "code",
   "execution_count": 237,
   "metadata": {},
   "outputs": [
    {
     "data": {
      "text/plain": [
       "aisle\n",
       "freshfruits                   110782\n",
       "freshvegetables                91368\n",
       "packagedvegetablesfruits       51523\n",
       "yogurt                         37939\n",
       "waterseltzersparklingwater     27011\n",
       "milk                           25864\n",
       "packagedcheese                 24897\n",
       "chipspretzels                  18649\n",
       "soylactosefree                 18046\n",
       "bread                          16073\n",
       "Name: order_id, dtype: int64"
      ]
     },
     "execution_count": 237,
     "metadata": {},
     "output_type": "execute_result"
    }
   ],
   "source": [
    "reorders.groupby('aisle',sort =False)['order_id'].count().sort_values(ascending=False).head(10)"
   ]
  },
  {
   "cell_type": "code",
   "execution_count": 236,
   "metadata": {},
   "outputs": [
    {
     "data": {
      "text/plain": [
       "Index(['order_id', 'user_id', 'eval_set', 'order_number', 'order_dow',\n",
       "       'order_hour_of_day', 'days_since_prior_order', 'product_id',\n",
       "       'add_to_cart_order', 'reordered', 'product_name', 'aisle_id',\n",
       "       'department_id', 'aisle', 'department', 'aisle-department'],\n",
       "      dtype='object')"
      ]
     },
     "execution_count": 236,
     "metadata": {},
     "output_type": "execute_result"
    }
   ],
   "source": [
    "reorders.columns"
   ]
  },
  {
   "cell_type": "code",
   "execution_count": null,
   "metadata": {},
   "outputs": [],
   "source": [
    "# 3. Re-ordered products by dow and hour of day"
   ]
  },
  {
   "cell_type": "code",
   "execution_count": 238,
   "metadata": {},
   "outputs": [
    {
     "data": {
      "text/plain": [
       "order_dow\n",
       "0    197534\n",
       "1    123376\n",
       "6    123173\n",
       "5    107239\n",
       "2     94469\n",
       "4     92454\n",
       "3     90579\n",
       "Name: order_id, dtype: int64"
      ]
     },
     "execution_count": 238,
     "metadata": {},
     "output_type": "execute_result"
    }
   ],
   "source": [
    "reorders.groupby('order_dow',sort =False)['order_id'].count().sort_values(ascending=False).head(10)"
   ]
  },
  {
   "cell_type": "markdown",
   "metadata": {},
   "source": [
    "__This shows most of the reorders happens on Saturday, Sunday and Friday__"
   ]
  },
  {
   "cell_type": "code",
   "execution_count": 239,
   "metadata": {},
   "outputs": [
    {
     "data": {
      "text/plain": [
       "order_hour_of_day\n",
       "14    70691\n",
       "11    67835\n",
       "15    67788\n",
       "13    67656\n",
       "10    66992\n",
       "12    65620\n",
       "16    64907\n",
       "9     58497\n",
       "17    57408\n",
       "18    44746\n",
       "Name: order_id, dtype: int64"
      ]
     },
     "execution_count": 239,
     "metadata": {},
     "output_type": "execute_result"
    }
   ],
   "source": [
    "reorders.groupby('order_hour_of_day',sort =False)['order_id'].count().sort_values(ascending=False).head(10)"
   ]
  },
  {
   "cell_type": "code",
   "execution_count": 243,
   "metadata": {},
   "outputs": [
    {
     "data": {
      "image/png": "[encoded data removed]",
      "text/plain": [
       "<Figure size 720x576 with 2 Axes>"
      ]
     },
     "metadata": {
      "needs_background": "light"
     },
     "output_type": "display_data"
    }
   ],
   "source": [
    "reorder_hour_dow = reorders.groupby(['order_dow', 'order_hour_of_day'])['reordered'].aggregate('count').reset_index()\n",
    "reorder_hour_dow = reorder_hour_dow.pivot('order_dow', 'order_hour_of_day', 'reordered')\n",
    "\n",
    "plt.figure(figsize=(10,8))\n",
    "\n",
    "sns.heatmap(reorder_hour_dow, cmap='YlOrRd')\n",
    "\n",
    "plt.ylabel('Day of Week')\n",
    "plt.xlabel('Hour of the Day')\n",
    "plt.title('Reorder Proportion by Day of Week vs Hour of Day')\n",
    "plt.show()"
   ]
  },
  {
   "cell_type": "markdown",
   "metadata": {},
   "source": [
    "__This shows most of the re-order happens on Saturday or sunday noon__"
   ]
  },
  {
   "cell_type": "markdown",
   "metadata": {},
   "source": [
    "# Conclusions:\n",
    "\n",
    "* Saturday afternoon and Sunday morning are the most popular time to make orders.\n",
    "* The 10 AM - 12 PM hour is the most popular time frame to make orders, followed by a dip around lunch time and a pickup in the afternoon.\n",
    "* Avg days of order since prior order is 12 days\n",
    "* Using Hypothesis Testing, we could prove that all products are not having reorder pct > 50%\n",
    "* Most of the re-order happens on Saturday or sunday noon similar to Orders"
   ]
  },
  {
   "cell_type": "code",
   "execution_count": null,
   "metadata": {},
   "outputs": [],
   "source": []
  }
 ],
 "metadata": {
  "kernelspec": {
   "display_name": "Python 3",
   "language": "python",
   "name": "python3"
  },
  "language_info": {
   "codemirror_mode": {
    "name": "ipython",
    "version": 3
   },
   "file_extension": ".py",
   "mimetype": "text/x-python",
   "name": "python",
   "nbconvert_exporter": "python",
   "pygments_lexer": "ipython3",
   "version": "3.8.3"
  }
 },
 "nbformat": 4,
 "nbformat_minor": 4
}
