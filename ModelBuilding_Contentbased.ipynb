{
 "cells": [
  {
   "cell_type": "markdown",
   "metadata": {},
   "source": [
    "# Building a Recommendation System\n"
   ]
  },
  {
   "cell_type": "markdown",
   "metadata": {},
   "source": [
    "## I would be trying these below methods for this dataset\n",
    "\n",
    "1. Content Based Filtering\n",
    "2. Collaberative Filtering\n",
    "3. Hybrid Filtering"
   ]
  },
  {
   "cell_type": "markdown",
   "metadata": {},
   "source": [
    "## Content Based Filtering \n",
    "Recommends a product similar to the product or based on recent activity"
   ]
  },
  {
   "cell_type": "code",
   "execution_count": 26,
   "metadata": {},
   "outputs": [],
   "source": [
    "# Importing Packages\n",
    "import pandas as pd\n",
    "\n",
    "import numpy as np\n",
    "import matplotlib.pyplot as plt\n",
    "import seaborn as sns\n",
    "\n",
    "from sklearn.metrics import mean_squared_error\n",
    "from sklearn.feature_extraction.text import CountVectorizer\n",
    "from sklearn.metrics.pairwise import cosine_similarity"
   ]
  },
  {
   "cell_type": "code",
   "execution_count": 100,
   "metadata": {},
   "outputs": [],
   "source": [
    "# Data Loading \n",
    "orders = pd.read_csv('orders_data.csv')\n"
   ]
  },
  {
   "cell_type": "code",
   "execution_count": 101,
   "metadata": {},
   "outputs": [],
   "source": [
    "# Data Loading \n",
    "orders = orders[orders['eval_set']=='train']"
   ]
  },
  {
   "cell_type": "code",
   "execution_count": 102,
   "metadata": {},
   "outputs": [],
   "source": [
    "orders=  orders.groupby('product_name', as_index=False).agg(set)"
   ]
  },
  {
   "cell_type": "code",
   "execution_count": 103,
   "metadata": {},
   "outputs": [],
   "source": [
    "orders = orders.reset_index()"
   ]
  },
  {
   "cell_type": "code",
   "execution_count": 90,
   "metadata": {},
   "outputs": [
    {
     "data": {
      "text/html": [
       "<div>\n",
       "<style scoped>\n",
       "    .dataframe tbody tr th:only-of-type {\n",
       "        vertical-align: middle;\n",
       "    }\n",
       "\n",
       "    .dataframe tbody tr th {\n",
       "        vertical-align: top;\n",
       "    }\n",
       "\n",
       "    .dataframe thead th {\n",
       "        text-align: right;\n",
       "    }\n",
       "</style>\n",
       "<table border=\"1\" class=\"dataframe\">\n",
       "  <thead>\n",
       "    <tr style=\"text-align: right;\">\n",
       "      <th></th>\n",
       "      <th>index</th>\n",
       "      <th>product_name</th>\n",
       "      <th>order_id</th>\n",
       "      <th>user_id</th>\n",
       "      <th>eval_set</th>\n",
       "      <th>order_number</th>\n",
       "      <th>order_dow</th>\n",
       "      <th>order_hour_of_day</th>\n",
       "      <th>days_since_prior_order</th>\n",
       "      <th>product_id</th>\n",
       "      <th>add_to_cart_order</th>\n",
       "      <th>reordered</th>\n",
       "      <th>aisle_id</th>\n",
       "      <th>department_id</th>\n",
       "      <th>aisle</th>\n",
       "      <th>department</th>\n",
       "      <th>aisle-department</th>\n",
       "    </tr>\n",
       "  </thead>\n",
       "  <tbody>\n",
       "    <tr>\n",
       "      <th>0</th>\n",
       "      <td>0</td>\n",
       "      <td>#2 Coffee Filters</td>\n",
       "      <td>{24208, 1340305, 704405, 2816283, 2767517, 209...</td>\n",
       "      <td>{54923, 63759, 156561, 123672, 188955, 104604,...</td>\n",
       "      <td>{train}</td>\n",
       "      <td>{33, 36, 4, 5, 7, 8, 6, 9, 11, 41, 12, 17, 18,...</td>\n",
       "      <td>{0, 1, 2, 3, 4, 5, 6}</td>\n",
       "      <td>{10, 11, 12, 13, 14, 15, 17, 18, 19, 21}</td>\n",
       "      <td>{4.0, 5.0, 6.0, 7.0, 8.0, 9.0, 10.0, 13.0, 25....</td>\n",
       "      <td>{25773.0}</td>\n",
       "      <td>{1.0, 2.0, 34.0, 4.0, 5.0, 6.0, 8.0, 9.0, 10.0...</td>\n",
       "      <td>{0.0, 1.0}</td>\n",
       "      <td>{26.0}</td>\n",
       "      <td>{7.0}</td>\n",
       "      <td>{coffee}</td>\n",
       "      <td>{beverages}</td>\n",
       "      <td>{coffee beverages}</td>\n",
       "    </tr>\n",
       "    <tr>\n",
       "      <th>1</th>\n",
       "      <td>1</td>\n",
       "      <td>#2 Cone White Coffee Filters</td>\n",
       "      <td>{3052036}</td>\n",
       "      <td>{157701}</td>\n",
       "      <td>{train}</td>\n",
       "      <td>{10}</td>\n",
       "      <td>{3}</td>\n",
       "      <td>{10}</td>\n",
       "      <td>{30.0}</td>\n",
       "      <td>{2158.0}</td>\n",
       "      <td>{15.0}</td>\n",
       "      <td>{0.0}</td>\n",
       "      <td>{26.0}</td>\n",
       "      <td>{7.0}</td>\n",
       "      <td>{coffee}</td>\n",
       "      <td>{beverages}</td>\n",
       "      <td>{coffee beverages}</td>\n",
       "    </tr>\n",
       "    <tr>\n",
       "      <th>2</th>\n",
       "      <td>2</td>\n",
       "      <td>#2 Mechanical Pencils</td>\n",
       "      <td>{2317343}</td>\n",
       "      <td>{70051}</td>\n",
       "      <td>{train}</td>\n",
       "      <td>{6}</td>\n",
       "      <td>{2}</td>\n",
       "      <td>{16}</td>\n",
       "      <td>{3.0}</td>\n",
       "      <td>{26685.0}</td>\n",
       "      <td>{5.0}</td>\n",
       "      <td>{0.0}</td>\n",
       "      <td>{87.0}</td>\n",
       "      <td>{17.0}</td>\n",
       "      <td>{morehousehold}</td>\n",
       "      <td>{household}</td>\n",
       "      <td>{morehousehold household}</td>\n",
       "    </tr>\n",
       "    <tr>\n",
       "      <th>3</th>\n",
       "      <td>3</td>\n",
       "      <td>#4 Natural Brown Coffee Filters</td>\n",
       "      <td>{2858756, 3413995, 2638064, 2460790, 1763739, ...</td>\n",
       "      <td>{52930, 16290, 192458, 33327, 82582, 164760}</td>\n",
       "      <td>{train}</td>\n",
       "      <td>{100, 6, 40, 10, 13, 15}</td>\n",
       "      <td>{0, 2, 6}</td>\n",
       "      <td>{8, 9, 14, 17}</td>\n",
       "      <td>{3.0, 6.0, 8.0, 13.0, 16.0, 18.0}</td>\n",
       "      <td>{26381.0}</td>\n",
       "      <td>{3.0, 4.0, 5.0, 6.0, 8.0, 13.0}</td>\n",
       "      <td>{0.0, 1.0}</td>\n",
       "      <td>{26.0}</td>\n",
       "      <td>{7.0}</td>\n",
       "      <td>{coffee}</td>\n",
       "      <td>{beverages}</td>\n",
       "      <td>{coffee beverages}</td>\n",
       "    </tr>\n",
       "    <tr>\n",
       "      <th>4</th>\n",
       "      <td>4</td>\n",
       "      <td>&amp; Go! Hazelnut Spread + Pretzel Sticks</td>\n",
       "      <td>{1551457, 2937505, 3414341, 1172967, 986171, 4...</td>\n",
       "      <td>{7588, 78825, 104745, 117353, 130671, 32726, 3...</td>\n",
       "      <td>{train}</td>\n",
       "      <td>{4, 5, 6, 7, 8, 39, 30}</td>\n",
       "      <td>{1, 2, 4, 6}</td>\n",
       "      <td>{9, 10, 11, 12, 13, 16, 17, 22}</td>\n",
       "      <td>{6.0, 7.0, 8.0, 13.0, 14.0, 28.0, 30.0}</td>\n",
       "      <td>{20604.0}</td>\n",
       "      <td>{4.0, 5.0, 8.0, 9.0, 14.0, 17.0, 25.0, 28.0, 3...</td>\n",
       "      <td>{0.0, 1.0}</td>\n",
       "      <td>{88.0}</td>\n",
       "      <td>{13.0}</td>\n",
       "      <td>{spreads}</td>\n",
       "      <td>{pantry}</td>\n",
       "      <td>{spreads pantry}</td>\n",
       "    </tr>\n",
       "  </tbody>\n",
       "</table>\n",
       "</div>"
      ],
      "text/plain": [
       "   index                            product_name  \\\n",
       "0      0                       #2 Coffee Filters   \n",
       "1      1            #2 Cone White Coffee Filters   \n",
       "2      2                   #2 Mechanical Pencils   \n",
       "3      3         #4 Natural Brown Coffee Filters   \n",
       "4      4  & Go! Hazelnut Spread + Pretzel Sticks   \n",
       "\n",
       "                                            order_id  \\\n",
       "0  {24208, 1340305, 704405, 2816283, 2767517, 209...   \n",
       "1                                          {3052036}   \n",
       "2                                          {2317343}   \n",
       "3  {2858756, 3413995, 2638064, 2460790, 1763739, ...   \n",
       "4  {1551457, 2937505, 3414341, 1172967, 986171, 4...   \n",
       "\n",
       "                                             user_id eval_set  \\\n",
       "0  {54923, 63759, 156561, 123672, 188955, 104604,...  {train}   \n",
       "1                                           {157701}  {train}   \n",
       "2                                            {70051}  {train}   \n",
       "3       {52930, 16290, 192458, 33327, 82582, 164760}  {train}   \n",
       "4  {7588, 78825, 104745, 117353, 130671, 32726, 3...  {train}   \n",
       "\n",
       "                                        order_number              order_dow  \\\n",
       "0  {33, 36, 4, 5, 7, 8, 6, 9, 11, 41, 12, 17, 18,...  {0, 1, 2, 3, 4, 5, 6}   \n",
       "1                                               {10}                    {3}   \n",
       "2                                                {6}                    {2}   \n",
       "3                           {100, 6, 40, 10, 13, 15}              {0, 2, 6}   \n",
       "4                            {4, 5, 6, 7, 8, 39, 30}           {1, 2, 4, 6}   \n",
       "\n",
       "                          order_hour_of_day  \\\n",
       "0  {10, 11, 12, 13, 14, 15, 17, 18, 19, 21}   \n",
       "1                                      {10}   \n",
       "2                                      {16}   \n",
       "3                            {8, 9, 14, 17}   \n",
       "4           {9, 10, 11, 12, 13, 16, 17, 22}   \n",
       "\n",
       "                              days_since_prior_order product_id  \\\n",
       "0  {4.0, 5.0, 6.0, 7.0, 8.0, 9.0, 10.0, 13.0, 25....  {25773.0}   \n",
       "1                                             {30.0}   {2158.0}   \n",
       "2                                              {3.0}  {26685.0}   \n",
       "3                  {3.0, 6.0, 8.0, 13.0, 16.0, 18.0}  {26381.0}   \n",
       "4            {6.0, 7.0, 8.0, 13.0, 14.0, 28.0, 30.0}  {20604.0}   \n",
       "\n",
       "                                   add_to_cart_order   reordered aisle_id  \\\n",
       "0  {1.0, 2.0, 34.0, 4.0, 5.0, 6.0, 8.0, 9.0, 10.0...  {0.0, 1.0}   {26.0}   \n",
       "1                                             {15.0}       {0.0}   {26.0}   \n",
       "2                                              {5.0}       {0.0}   {87.0}   \n",
       "3                    {3.0, 4.0, 5.0, 6.0, 8.0, 13.0}  {0.0, 1.0}   {26.0}   \n",
       "4  {4.0, 5.0, 8.0, 9.0, 14.0, 17.0, 25.0, 28.0, 3...  {0.0, 1.0}   {88.0}   \n",
       "\n",
       "  department_id            aisle   department           aisle-department  \n",
       "0         {7.0}         {coffee}  {beverages}         {coffee beverages}  \n",
       "1         {7.0}         {coffee}  {beverages}         {coffee beverages}  \n",
       "2        {17.0}  {morehousehold}  {household}  {morehousehold household}  \n",
       "3         {7.0}         {coffee}  {beverages}         {coffee beverages}  \n",
       "4        {13.0}        {spreads}     {pantry}           {spreads pantry}  "
      ]
     },
     "execution_count": 90,
     "metadata": {},
     "output_type": "execute_result"
    }
   ],
   "source": [
    "orders.head(5)"
   ]
  },
  {
   "cell_type": "code",
   "execution_count": 71,
   "metadata": {},
   "outputs": [
    {
     "data": {
      "text/plain": [
       "(39123,\n",
       " Index(['index', 'product_id', 'order_id', 'user_id', 'eval_set',\n",
       "        'order_number', 'order_dow', 'order_hour_of_day',\n",
       "        'days_since_prior_order', 'add_to_cart_order', 'reordered',\n",
       "        'product_name', 'aisle_id', 'department_id', 'aisle', 'department',\n",
       "        'aisle-department'],\n",
       "       dtype='object'))"
      ]
     },
     "execution_count": 71,
     "metadata": {},
     "output_type": "execute_result"
    }
   ],
   "source": [
    "len(orders), orders.columns"
   ]
  },
  {
   "cell_type": "code",
   "execution_count": 151,
   "metadata": {},
   "outputs": [],
   "source": [
    "orders.product_name=orders.product_name.str.replace('[#,@,&,!,$,%,^,*,+,-,\",.,\\,/]','') # Removing Special symbol in product name column\n",
    "\n",
    "orders.product_name = orders.product_name.str.replace('\\d+', '') # remving numbers from the product name\n",
    "\n",
    "orders.product_name = orders.product_name.str.lstrip() # Removing Leading white spaces in the product name"
   ]
  },
  {
   "cell_type": "markdown",
   "metadata": {},
   "source": [
    "#### Cleaning the product name column"
   ]
  },
  {
   "cell_type": "code",
   "execution_count": 137,
   "metadata": {},
   "outputs": [],
   "source": [
    "#orders.product_name = orders.product_name.str.replace('[#,@,&,!,$,%,^,*,+,-]','').str.replace('\\d+', '').str.lstrip()"
   ]
  },
  {
   "cell_type": "code",
   "execution_count": 144,
   "metadata": {},
   "outputs": [
    {
     "data": {
      "text/html": [
       "<div>\n",
       "<style scoped>\n",
       "    .dataframe tbody tr th:only-of-type {\n",
       "        vertical-align: middle;\n",
       "    }\n",
       "\n",
       "    .dataframe tbody tr th {\n",
       "        vertical-align: top;\n",
       "    }\n",
       "\n",
       "    .dataframe thead th {\n",
       "        text-align: right;\n",
       "    }\n",
       "</style>\n",
       "<table border=\"1\" class=\"dataframe\">\n",
       "  <thead>\n",
       "    <tr style=\"text-align: right;\">\n",
       "      <th></th>\n",
       "      <th>index</th>\n",
       "      <th>product_name</th>\n",
       "      <th>order_id</th>\n",
       "      <th>user_id</th>\n",
       "      <th>eval_set</th>\n",
       "      <th>order_number</th>\n",
       "      <th>order_dow</th>\n",
       "      <th>order_hour_of_day</th>\n",
       "      <th>days_since_prior_order</th>\n",
       "      <th>product_id</th>\n",
       "      <th>add_to_cart_order</th>\n",
       "      <th>reordered</th>\n",
       "      <th>aisle_id</th>\n",
       "      <th>department_id</th>\n",
       "      <th>aisle</th>\n",
       "      <th>department</th>\n",
       "      <th>aisle-department</th>\n",
       "    </tr>\n",
       "  </thead>\n",
       "  <tbody>\n",
       "    <tr>\n",
       "      <th>0</th>\n",
       "      <td>0</td>\n",
       "      <td>Coffee Filters</td>\n",
       "      <td>{24208, 1340305, 704405, 2816283, 2767517, 209...</td>\n",
       "      <td>{54923, 63759, 156561, 123672, 188955, 104604,...</td>\n",
       "      <td>{train}</td>\n",
       "      <td>{33, 36, 4, 5, 7, 8, 6, 9, 11, 41, 12, 17, 18,...</td>\n",
       "      <td>{0, 1, 2, 3, 4, 5, 6}</td>\n",
       "      <td>{10, 11, 12, 13, 14, 15, 17, 18, 19, 21}</td>\n",
       "      <td>{4.0, 5.0, 6.0, 7.0, 8.0, 9.0, 10.0, 13.0, 25....</td>\n",
       "      <td>{25773.0}</td>\n",
       "      <td>{1.0, 2.0, 34.0, 4.0, 5.0, 6.0, 8.0, 9.0, 10.0...</td>\n",
       "      <td>{0.0, 1.0}</td>\n",
       "      <td>{26.0}</td>\n",
       "      <td>{7.0}</td>\n",
       "      <td>{coffee}</td>\n",
       "      <td>{beverages}</td>\n",
       "      <td>coffee beverages</td>\n",
       "    </tr>\n",
       "    <tr>\n",
       "      <th>1</th>\n",
       "      <td>1</td>\n",
       "      <td>Cone White Coffee Filters</td>\n",
       "      <td>{3052036}</td>\n",
       "      <td>{157701}</td>\n",
       "      <td>{train}</td>\n",
       "      <td>{10}</td>\n",
       "      <td>{3}</td>\n",
       "      <td>{10}</td>\n",
       "      <td>{30.0}</td>\n",
       "      <td>{2158.0}</td>\n",
       "      <td>{15.0}</td>\n",
       "      <td>{0.0}</td>\n",
       "      <td>{26.0}</td>\n",
       "      <td>{7.0}</td>\n",
       "      <td>{coffee}</td>\n",
       "      <td>{beverages}</td>\n",
       "      <td>coffee beverages</td>\n",
       "    </tr>\n",
       "    <tr>\n",
       "      <th>2</th>\n",
       "      <td>2</td>\n",
       "      <td>Mechanical Pencils</td>\n",
       "      <td>{2317343}</td>\n",
       "      <td>{70051}</td>\n",
       "      <td>{train}</td>\n",
       "      <td>{6}</td>\n",
       "      <td>{2}</td>\n",
       "      <td>{16}</td>\n",
       "      <td>{3.0}</td>\n",
       "      <td>{26685.0}</td>\n",
       "      <td>{5.0}</td>\n",
       "      <td>{0.0}</td>\n",
       "      <td>{87.0}</td>\n",
       "      <td>{17.0}</td>\n",
       "      <td>{morehousehold}</td>\n",
       "      <td>{household}</td>\n",
       "      <td>morehousehold household</td>\n",
       "    </tr>\n",
       "  </tbody>\n",
       "</table>\n",
       "</div>"
      ],
      "text/plain": [
       "   index               product_name  \\\n",
       "0      0             Coffee Filters   \n",
       "1      1  Cone White Coffee Filters   \n",
       "2      2         Mechanical Pencils   \n",
       "\n",
       "                                            order_id  \\\n",
       "0  {24208, 1340305, 704405, 2816283, 2767517, 209...   \n",
       "1                                          {3052036}   \n",
       "2                                          {2317343}   \n",
       "\n",
       "                                             user_id eval_set  \\\n",
       "0  {54923, 63759, 156561, 123672, 188955, 104604,...  {train}   \n",
       "1                                           {157701}  {train}   \n",
       "2                                            {70051}  {train}   \n",
       "\n",
       "                                        order_number              order_dow  \\\n",
       "0  {33, 36, 4, 5, 7, 8, 6, 9, 11, 41, 12, 17, 18,...  {0, 1, 2, 3, 4, 5, 6}   \n",
       "1                                               {10}                    {3}   \n",
       "2                                                {6}                    {2}   \n",
       "\n",
       "                          order_hour_of_day  \\\n",
       "0  {10, 11, 12, 13, 14, 15, 17, 18, 19, 21}   \n",
       "1                                      {10}   \n",
       "2                                      {16}   \n",
       "\n",
       "                              days_since_prior_order product_id  \\\n",
       "0  {4.0, 5.0, 6.0, 7.0, 8.0, 9.0, 10.0, 13.0, 25....  {25773.0}   \n",
       "1                                             {30.0}   {2158.0}   \n",
       "2                                              {3.0}  {26685.0}   \n",
       "\n",
       "                                   add_to_cart_order   reordered aisle_id  \\\n",
       "0  {1.0, 2.0, 34.0, 4.0, 5.0, 6.0, 8.0, 9.0, 10.0...  {0.0, 1.0}   {26.0}   \n",
       "1                                             {15.0}       {0.0}   {26.0}   \n",
       "2                                              {5.0}       {0.0}   {87.0}   \n",
       "\n",
       "  department_id            aisle   department          aisle-department  \n",
       "0         {7.0}         {coffee}  {beverages}          coffee beverages  \n",
       "1         {7.0}         {coffee}  {beverages}          coffee beverages  \n",
       "2        {17.0}  {morehousehold}  {household}   morehousehold household  "
      ]
     },
     "execution_count": 144,
     "metadata": {},
     "output_type": "execute_result"
    }
   ],
   "source": [
    "orders.head(3)"
   ]
  },
  {
   "cell_type": "code",
   "execution_count": 145,
   "metadata": {},
   "outputs": [],
   "source": [
    "orders['aisle-department'] = orders.apply(lambda x : ' ' + ' '.join(x['aisle']) + ' ' + ' '.join(x['department']), axis = 1)\n"
   ]
  },
  {
   "cell_type": "markdown",
   "metadata": {},
   "source": [
    "### Using Cosine Similarily"
   ]
  },
  {
   "cell_type": "markdown",
   "metadata": {},
   "source": [
    "If the output value is 0, no similar and if it is closer to 1 then more similar"
   ]
  },
  {
   "cell_type": "code",
   "execution_count": 152,
   "metadata": {},
   "outputs": [],
   "source": [
    "count_vec = CountVectorizer(stop_words='english')\n",
    "count_vec_matrix = count_vec.fit_transform(orders['aisle-department'])\n",
    "cosine_sim_matrix = cosine_similarity(count_vec_matrix, count_vec_matrix)\n",
    "mapping = pd.Series(orders.index, index = orders['product_name'])"
   ]
  },
  {
   "cell_type": "code",
   "execution_count": 110,
   "metadata": {},
   "outputs": [
    {
     "data": {
      "text/plain": [
       "product_name\n",
       "Coffee Filters                                                       0\n",
       "Cone White Coffee Filters                                            1\n",
       "Mechanical Pencils                                                   2\n",
       "Natural Brown Coffee Filters                                         3\n",
       "Go Hazelnut Spread  Pretzel Sticks                                   4\n",
       "                                                                 ...  \n",
       "with Xylitol Unwrapped Original Flavor  Sticks Sugar Free Gum    39118\n",
       "with Xylitol Unwrapped Spearmint  Sticks Sugar Free Gum          39119\n",
       "with Xylitol Watermelon Twist  Sticks Sugar Free Gum             39120\n",
       "with a Splash of Mango Coconut Water                             39121\n",
       "with a Splash of Pineapple Coconut Water                         39122\n",
       "Length: 39123, dtype: int64"
      ]
     },
     "execution_count": 110,
     "metadata": {},
     "output_type": "execute_result"
    }
   ],
   "source": [
    "mapping"
   ]
  },
  {
   "cell_type": "markdown",
   "metadata": {},
   "source": [
    "### Selecting a product"
   ]
  },
  {
   "cell_type": "code",
   "execution_count": 153,
   "metadata": {},
   "outputs": [
    {
     "name": "stdin",
     "output_type": "stream",
     "text": [
      "Please enter a product name :\n",
      " Go Hazelnut Spread  Pretzel Sticks\n"
     ]
    }
   ],
   "source": [
    "product_name = input(\"Please enter a product name :\\n\")"
   ]
  },
  {
   "cell_type": "code",
   "execution_count": 154,
   "metadata": {},
   "outputs": [
    {
     "name": "stdin",
     "output_type": "stream",
     "text": [
      "Enter the top n values to be listed 10\n"
     ]
    }
   ],
   "source": [
    "top_n_values = input(\"Enter the top n values to be listed\")"
   ]
  },
  {
   "cell_type": "code",
   "execution_count": 155,
   "metadata": {},
   "outputs": [],
   "source": [
    "def recommend_products(product_name):\n",
    "    product_index = mapping[product_name]\n",
    "    \n",
    "    similarity_score = list(enumerate(cosine_sim_matrix[product_index]))\n",
    "    similarity_score = sorted(similarity_score, key= lambda x:x[1], reverse=True)\n",
    "    \n",
    "    similarity_score = similarity_score[1:int(top_n_values)+1]\n",
    "    product_indexes = [i[0] for i in similarity_score]\n",
    "    \n",
    "    return (orders['product_name'].iloc[product_indexes])\n",
    "\n",
    "recommended_products =  pd.DataFrame(recommend_products(product_name))"
   ]
  },
  {
   "cell_type": "code",
   "execution_count": 156,
   "metadata": {},
   "outputs": [
    {
     "name": "stdout",
     "output_type": "stream",
     "text": [
      "Below are the Top 10 products of Go Hazelnut Spread  Pretzel Sticks \n",
      "\n",
      "\n",
      " 82               All Natural Creamy Peanut Butter\n",
      "83              All Natural Crunchy Peanut Butter\n",
      "196                  Natural Creamy Peanut Butter\n",
      "197         Natural Creamy Unsalted Peanut Butter\n",
      "198                 Natural Crunchy Peanut Butter\n",
      "207    Natural Old Fashioned Creamy Peanut Butter\n",
      "253                    Organic Raw Coconut Butter\n",
      "254     Organic Raw Pecan Nut Butter With Cashews\n",
      "960       Less Fat Organic Powdered Peanut Butter\n",
      "997                                A Red Duet Jam\n",
      "Name: product_name, dtype: object\n"
     ]
    }
   ],
   "source": [
    "print ('Below are the Top {} products of {} \\n\\n\\n {}'.format(top_n_values,product_name,recommended_products['product_name']))\n"
   ]
  },
  {
   "cell_type": "code",
   "execution_count": 157,
   "metadata": {},
   "outputs": [
    {
     "data": {
      "text/plain": [
       "'           All Natural Creamy Peanut Butter,          All Natural Crunchy Peanut Butter,               Natural Creamy Peanut Butter,      Natural Creamy Unsalted Peanut Butter,              Natural Crunchy Peanut Butter, Natural Old Fashioned Creamy Peanut Butter,                 Organic Raw Coconut Butter,  Organic Raw Pecan Nut Butter With Cashews,    Less Fat Organic Powdered Peanut Butter,                             A Red Duet Jam'"
      ]
     },
     "execution_count": 157,
     "metadata": {},
     "output_type": "execute_result"
    }
   ],
   "source": [
    "(recommended_products['product_name']).to_string(index=False).replace('\\n',',')"
   ]
  },
  {
   "cell_type": "markdown",
   "metadata": {},
   "source": [
    "### Conclusion of Content based filtering"
   ]
  },
  {
   "cell_type": "markdown",
   "metadata": {},
   "source": [
    "__Based on the similar products, aisle and department, for each given product, we are able to list the similar product based on cosine similarity score__"
   ]
  }
 ],
 "metadata": {
  "kernelspec": {
   "display_name": "Python 3",
   "language": "python",
   "name": "python3"
  },
  "language_info": {
   "codemirror_mode": {
    "name": "ipython",
    "version": 3
   },
   "file_extension": ".py",
   "mimetype": "text/x-python",
   "name": "python",
   "nbconvert_exporter": "python",
   "pygments_lexer": "ipython3",
   "version": "3.8.3"
  }
 },
 "nbformat": 4,
 "nbformat_minor": 4
}
